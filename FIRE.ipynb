{
 "cells": [
  {
   "cell_type": "markdown",
   "metadata": {},
   "source": [
    "# FIRE CALCULATED\n"
   ]
  },
  {
   "cell_type": "code",
   "execution_count": 156,
   "metadata": {},
   "outputs": [],
   "source": [
    "import pandas as pd\n",
    "import numpy as np"
   ]
  },
  {
   "cell_type": "code",
   "execution_count": 13,
   "metadata": {},
   "outputs": [
    {
     "name": "stdin",
     "output_type": "stream",
     "text": [
      " David\n"
     ]
    }
   ],
   "source": [
    "name = input('Insert you name')    #USE NAME "
   ]
  },
  {
   "cell_type": "code",
   "execution_count": 15,
   "metadata": {},
   "outputs": [
    {
     "name": "stdin",
     "output_type": "stream",
     "text": [
      "Insert your last  name Santamaria\n"
     ]
    }
   ],
   "source": [
    "Last_name = input('Insert your last  name') #USE LAST_NAME "
   ]
  },
  {
   "cell_type": "code",
   "execution_count": 17,
   "metadata": {},
   "outputs": [
    {
     "name": "stdin",
     "output_type": "stream",
     "text": [
      "Do you want a new evalution (Y)? or  verify any other (V) Y\n"
     ]
    }
   ],
   "source": [
    "newornot = input('Do you want a new evalution (Y)? or  verify any other (V)').upper() # IS A NEW CALCULATION OR NOT?"
   ]
  },
  {
   "cell_type": "code",
   "execution_count": 129,
   "metadata": {},
   "outputs": [
    {
     "name": "stdout",
     "output_type": "stream",
     "text": [
      "Please introduce the fowwoling data: how much you make at year after taxes and how much you want to spend once   retired, age, expenses, estimated_inflation, investments, estimated_return\n"
     ]
    },
    {
     "name": "stdin",
     "output_type": "stream",
     "text": [
      "how much you make at year after taxes 65\n",
      "how much you want to spend in your retirement 20\n",
      "age 30\n",
      "calculated yearly expenses 40\n",
      "estimated inflation (3% american average) 3\n",
      "Total investment and bonds 150\n",
      "Total returns from investment and bonds 2\n",
      "Total anual Grows of your income (normaly 3%) 3\n",
      "withdrawal rate for your retirement (4% recomended) 5\n"
     ]
    }
   ],
   "source": [
    "if newornot == 'Y' :\n",
    " print('Please introduce the fowwoling data: how much you make at year after taxes and how much you want to spend once   retired, age, expenses, estimated_inflation, investments, estimated_return')\n",
    " make_year= int(input('how much you make at year after taxes'))\n",
    " spend_retired = int(input('how much you want to spend in your retirement')) \n",
    " age = int(input('age'))\n",
    " expenses = int(input('calculated yearly expenses'))\n",
    " estimated_inflation = int(input('estimated inflation (3% american average)'))\n",
    " investments = int(input('Total investment and bonds')) \n",
    " estimated_return = int(input('Total returns from investment and bonds'))\n",
    " stimation_grow =int(input('Total anual Grows of your income (normaly 3%)'))\n",
    " withdrawal_rate = int(input('withdrawal rate for your retirement (4% recomended)'))\n",
    "\n",
    "\n"
   ]
  },
  {
   "cell_type": "code",
   "execution_count": 130,
   "metadata": {},
   "outputs": [
    {
     "data": {
      "text/plain": [
       "400.0"
      ]
     },
     "execution_count": 130,
     "metadata": {},
     "output_type": "execute_result"
    }
   ],
   "source": [
    "FIRE_NUMBER = (spend_retired)*100/withdrawal_rate\n",
    "FIRE_NUMBER"
   ]
  },
  {
   "cell_type": "code",
   "execution_count": 206,
   "metadata": {},
   "outputs": [],
   "source": [
    "A= 0\n",
    "t= 0\n",
    "P= investments\n",
    "G = make_year - expenses\n",
    "N1 = estimated_return/100        #DIV BY 100 CAUSE IS %\n",
    "N2 = estimated_inflation/100     #DIV BY 100 CAUSE IS %\n",
    "N3 = stimation_grow/100          #DIV BY 100 CAUSE IS %\n",
    "moneypyear = np.array([])        #Annual Savings"
   ]
  },
  {
   "cell_type": "code",
   "execution_count": 207,
   "metadata": {},
   "outputs": [],
   "source": [
    "while A < FIRE_NUMBER:       # CALCULING ANUAL SAVINGS \n",
    "    if t == 0:\n",
    "        A =  (P*pow(1,t)+G*(1+N2)*t)\n",
    "        t=t+1\n",
    "    else:\n",
    "        A = (P*pow(1+N1,t)+G*t*pow(1+N3,t)) * pow(1-N2,t)\n",
    "        t=t+1\n",
    "    moneypyear = np.append(moneypyear, A)"
   ]
  },
  {
   "cell_type": "code",
   "execution_count": 208,
   "metadata": {},
   "outputs": [
    {
     "data": {
      "text/plain": [
       "array([150.        , 173.3875    , 196.7468945 , 220.07806554,\n",
       "       243.38089699, 266.65527451, 289.90108555, 313.11821931,\n",
       "       336.30656675, 359.46602054, 382.59647504, 405.69782633])"
      ]
     },
     "execution_count": 208,
     "metadata": {},
     "output_type": "execute_result"
    }
   ],
   "source": [
    "moneypyear"
   ]
  },
  {
   "cell_type": "code",
   "execution_count": 231,
   "metadata": {},
   "outputs": [],
   "source": [
    "age_t=age+t \n",
    "TOTAL_DATA = pd.DataFrame()"
   ]
  },
  {
   "cell_type": "code",
   "execution_count": 242,
   "metadata": {},
   "outputs": [],
   "source": [
    "obj = {'NAME': [name], 'L. NAME': [Last_name], 'MAKE A. T': [make_year], 'EXPENSES ': [expenses],  'EXPEN RETI': [spend_retired],'FIRE_N':[FIRE_NUMBER],'AGE': [age] ,'AGE RETI':[age_t],'INFLATION': [estimated_inflation ], 'INITIAL INVEST.': [investments],'RETURN F. INVEST.': [estimated_return], 'ESTI. GROW': [stimation_grow ] }"
   ]
  },
  {
   "cell_type": "code",
   "execution_count": 282,
   "metadata": {},
   "outputs": [
    {
     "data": {
      "text/html": [
       "<div>\n",
       "<style scoped>\n",
       "    .dataframe tbody tr th:only-of-type {\n",
       "        vertical-align: middle;\n",
       "    }\n",
       "\n",
       "    .dataframe tbody tr th {\n",
       "        vertical-align: top;\n",
       "    }\n",
       "\n",
       "    .dataframe thead th {\n",
       "        text-align: right;\n",
       "    }\n",
       "</style>\n",
       "<table border=\"1\" class=\"dataframe\">\n",
       "  <thead>\n",
       "    <tr style=\"text-align: right;\">\n",
       "      <th></th>\n",
       "      <th>NAME</th>\n",
       "      <th>L. NAME</th>\n",
       "      <th>MAKE A. T</th>\n",
       "      <th>EXPENSES</th>\n",
       "      <th>EXPEN RETI</th>\n",
       "      <th>FIRE_N</th>\n",
       "      <th>AGE</th>\n",
       "      <th>AGE RETI</th>\n",
       "      <th>INFLATION</th>\n",
       "      <th>INITIAL INVEST.</th>\n",
       "      <th>RETURN F. INVEST.</th>\n",
       "      <th>ESTI. GROW</th>\n",
       "    </tr>\n",
       "  </thead>\n",
       "  <tbody>\n",
       "    <tr>\n",
       "      <th>0</th>\n",
       "      <td>David</td>\n",
       "      <td>Santamaria</td>\n",
       "      <td>65</td>\n",
       "      <td>40</td>\n",
       "      <td>20</td>\n",
       "      <td>400.0</td>\n",
       "      <td>30</td>\n",
       "      <td>42</td>\n",
       "      <td>3</td>\n",
       "      <td>150</td>\n",
       "      <td>2</td>\n",
       "      <td>3</td>\n",
       "    </tr>\n",
       "  </tbody>\n",
       "</table>\n",
       "</div>"
      ],
      "text/plain": [
       "    NAME     L. NAME  MAKE A. T  EXPENSES   EXPEN RETI  FIRE_N  AGE  AGE RETI  \\\n",
       "0  David  Santamaria         65         40          20   400.0   30        42   \n",
       "\n",
       "   INFLATION  INITIAL INVEST.  RETURN F. INVEST.  ESTI. GROW  \n",
       "0          3              150                  2           3  "
      ]
     },
     "execution_count": 282,
     "metadata": {},
     "output_type": "execute_result"
    }
   ],
   "source": [
    "new_df = pd.DataFrame(data=obj) # Delivery of the calculations in rows that can be called by SQL\n",
    "new_df"
   ]
  },
  {
   "cell_type": "code",
   "execution_count": 283,
   "metadata": {},
   "outputs": [
    {
     "data": {
      "text/html": [
       "<div>\n",
       "<style scoped>\n",
       "    .dataframe tbody tr th:only-of-type {\n",
       "        vertical-align: middle;\n",
       "    }\n",
       "\n",
       "    .dataframe tbody tr th {\n",
       "        vertical-align: top;\n",
       "    }\n",
       "\n",
       "    .dataframe thead th {\n",
       "        text-align: right;\n",
       "    }\n",
       "</style>\n",
       "<table border=\"1\" class=\"dataframe\">\n",
       "  <thead>\n",
       "    <tr style=\"text-align: right;\">\n",
       "      <th></th>\n",
       "      <th>NAME</th>\n",
       "      <th>L. NAME</th>\n",
       "      <th>MAKE A. T</th>\n",
       "      <th>EXPENSES</th>\n",
       "      <th>EXPEN RETI</th>\n",
       "      <th>FIRE_N</th>\n",
       "      <th>AGE</th>\n",
       "      <th>AGE RETI</th>\n",
       "      <th>INFLATION</th>\n",
       "      <th>INITIAL INVEST.</th>\n",
       "      <th>RETURN F. INVEST.</th>\n",
       "      <th>ESTI. GROW</th>\n",
       "    </tr>\n",
       "  </thead>\n",
       "  <tbody>\n",
       "    <tr>\n",
       "      <th>0</th>\n",
       "      <td>David</td>\n",
       "      <td>Santamaria</td>\n",
       "      <td>65</td>\n",
       "      <td>40</td>\n",
       "      <td>20</td>\n",
       "      <td>400.0</td>\n",
       "      <td>30</td>\n",
       "      <td>42</td>\n",
       "      <td>3</td>\n",
       "      <td>150</td>\n",
       "      <td>2</td>\n",
       "      <td>3</td>\n",
       "    </tr>\n",
       "    <tr>\n",
       "      <th>1</th>\n",
       "      <td>David</td>\n",
       "      <td>Santamaria</td>\n",
       "      <td>65</td>\n",
       "      <td>40</td>\n",
       "      <td>20</td>\n",
       "      <td>400.0</td>\n",
       "      <td>30</td>\n",
       "      <td>42</td>\n",
       "      <td>3</td>\n",
       "      <td>150</td>\n",
       "      <td>2</td>\n",
       "      <td>3</td>\n",
       "    </tr>\n",
       "    <tr>\n",
       "      <th>2</th>\n",
       "      <td>David</td>\n",
       "      <td>Santamaria</td>\n",
       "      <td>65</td>\n",
       "      <td>40</td>\n",
       "      <td>20</td>\n",
       "      <td>400.0</td>\n",
       "      <td>30</td>\n",
       "      <td>42</td>\n",
       "      <td>3</td>\n",
       "      <td>150</td>\n",
       "      <td>2</td>\n",
       "      <td>3</td>\n",
       "    </tr>\n",
       "    <tr>\n",
       "      <th>3</th>\n",
       "      <td>David</td>\n",
       "      <td>Santamaria</td>\n",
       "      <td>65</td>\n",
       "      <td>40</td>\n",
       "      <td>20</td>\n",
       "      <td>400.0</td>\n",
       "      <td>30</td>\n",
       "      <td>42</td>\n",
       "      <td>3</td>\n",
       "      <td>150</td>\n",
       "      <td>2</td>\n",
       "      <td>3</td>\n",
       "    </tr>\n",
       "    <tr>\n",
       "      <th>4</th>\n",
       "      <td>David</td>\n",
       "      <td>Santamaria</td>\n",
       "      <td>65</td>\n",
       "      <td>40</td>\n",
       "      <td>20</td>\n",
       "      <td>400.0</td>\n",
       "      <td>30</td>\n",
       "      <td>42</td>\n",
       "      <td>3</td>\n",
       "      <td>150</td>\n",
       "      <td>2</td>\n",
       "      <td>3</td>\n",
       "    </tr>\n",
       "  </tbody>\n",
       "</table>\n",
       "</div>"
      ],
      "text/plain": [
       "    NAME     L. NAME  MAKE A. T  EXPENSES   EXPEN RETI  FIRE_N  AGE  AGE RETI  \\\n",
       "0  David  Santamaria         65         40          20   400.0   30        42   \n",
       "1  David  Santamaria         65         40          20   400.0   30        42   \n",
       "2  David  Santamaria         65         40          20   400.0   30        42   \n",
       "3  David  Santamaria         65         40          20   400.0   30        42   \n",
       "4  David  Santamaria         65         40          20   400.0   30        42   \n",
       "\n",
       "   INFLATION  INITIAL INVEST.  RETURN F. INVEST.  ESTI. GROW  \n",
       "0          3              150                  2           3  \n",
       "1          3              150                  2           3  \n",
       "2          3              150                  2           3  \n",
       "3          3              150                  2           3  \n",
       "4          3              150                  2           3  "
      ]
     },
     "execution_count": 283,
     "metadata": {},
     "output_type": "execute_result"
    }
   ],
   "source": [
    "TOTAL_DATA = TOTAL_DATA.append(new_df, ignore_index=True)\n",
    "TOTAL_DATA"
   ]
  },
  {
   "cell_type": "code",
   "execution_count": null,
   "metadata": {},
   "outputs": [],
   "source": []
  },
  {
   "cell_type": "code",
   "execution_count": null,
   "metadata": {},
   "outputs": [],
   "source": [
    "else # In case the user wants to edit an old calculation"
   ]
  },
  {
   "cell_type": "code",
   "execution_count": 284,
   "metadata": {},
   "outputs": [
    {
     "data": {
      "text/html": [
       "<div>\n",
       "<style scoped>\n",
       "    .dataframe tbody tr th:only-of-type {\n",
       "        vertical-align: middle;\n",
       "    }\n",
       "\n",
       "    .dataframe tbody tr th {\n",
       "        vertical-align: top;\n",
       "    }\n",
       "\n",
       "    .dataframe thead th {\n",
       "        text-align: right;\n",
       "    }\n",
       "</style>\n",
       "<table border=\"1\" class=\"dataframe\">\n",
       "  <thead>\n",
       "    <tr style=\"text-align: right;\">\n",
       "      <th></th>\n",
       "      <th>NAME</th>\n",
       "      <th>L. NAME</th>\n",
       "      <th>MAKE A. T</th>\n",
       "      <th>EXPENSES</th>\n",
       "      <th>EXPEN RETI</th>\n",
       "      <th>FIRE_N</th>\n",
       "      <th>AGE</th>\n",
       "      <th>AGE RETI</th>\n",
       "      <th>INFLATION</th>\n",
       "      <th>INITIAL INVEST.</th>\n",
       "      <th>RETURN F. INVEST.</th>\n",
       "      <th>ESTI. GROW</th>\n",
       "    </tr>\n",
       "  </thead>\n",
       "  <tbody>\n",
       "    <tr>\n",
       "      <th>0</th>\n",
       "      <td>David</td>\n",
       "      <td>Santamaria</td>\n",
       "      <td>65</td>\n",
       "      <td>40</td>\n",
       "      <td>20</td>\n",
       "      <td>400.0</td>\n",
       "      <td>30</td>\n",
       "      <td>42</td>\n",
       "      <td>3</td>\n",
       "      <td>150</td>\n",
       "      <td>2</td>\n",
       "      <td>3</td>\n",
       "    </tr>\n",
       "    <tr>\n",
       "      <th>1</th>\n",
       "      <td>David</td>\n",
       "      <td>Santamaria</td>\n",
       "      <td>65</td>\n",
       "      <td>40</td>\n",
       "      <td>20</td>\n",
       "      <td>400.0</td>\n",
       "      <td>30</td>\n",
       "      <td>42</td>\n",
       "      <td>3</td>\n",
       "      <td>150</td>\n",
       "      <td>2</td>\n",
       "      <td>3</td>\n",
       "    </tr>\n",
       "    <tr>\n",
       "      <th>2</th>\n",
       "      <td>David</td>\n",
       "      <td>Santamaria</td>\n",
       "      <td>65</td>\n",
       "      <td>40</td>\n",
       "      <td>20</td>\n",
       "      <td>400.0</td>\n",
       "      <td>30</td>\n",
       "      <td>42</td>\n",
       "      <td>3</td>\n",
       "      <td>150</td>\n",
       "      <td>2</td>\n",
       "      <td>3</td>\n",
       "    </tr>\n",
       "    <tr>\n",
       "      <th>3</th>\n",
       "      <td>David</td>\n",
       "      <td>Santamaria</td>\n",
       "      <td>65</td>\n",
       "      <td>40</td>\n",
       "      <td>20</td>\n",
       "      <td>400.0</td>\n",
       "      <td>30</td>\n",
       "      <td>42</td>\n",
       "      <td>3</td>\n",
       "      <td>150</td>\n",
       "      <td>2</td>\n",
       "      <td>3</td>\n",
       "    </tr>\n",
       "    <tr>\n",
       "      <th>4</th>\n",
       "      <td>David</td>\n",
       "      <td>Santamaria</td>\n",
       "      <td>65</td>\n",
       "      <td>40</td>\n",
       "      <td>20</td>\n",
       "      <td>400.0</td>\n",
       "      <td>30</td>\n",
       "      <td>42</td>\n",
       "      <td>3</td>\n",
       "      <td>150</td>\n",
       "      <td>2</td>\n",
       "      <td>3</td>\n",
       "    </tr>\n",
       "  </tbody>\n",
       "</table>\n",
       "</div>"
      ],
      "text/plain": [
       "    NAME     L. NAME  MAKE A. T  EXPENSES   EXPEN RETI  FIRE_N  AGE  AGE RETI  \\\n",
       "0  David  Santamaria         65         40          20   400.0   30        42   \n",
       "1  David  Santamaria         65         40          20   400.0   30        42   \n",
       "2  David  Santamaria         65         40          20   400.0   30        42   \n",
       "3  David  Santamaria         65         40          20   400.0   30        42   \n",
       "4  David  Santamaria         65         40          20   400.0   30        42   \n",
       "\n",
       "   INFLATION  INITIAL INVEST.  RETURN F. INVEST.  ESTI. GROW  \n",
       "0          3              150                  2           3  \n",
       "1          3              150                  2           3  \n",
       "2          3              150                  2           3  \n",
       "3          3              150                  2           3  \n",
       "4          3              150                  2           3  "
      ]
     },
     "execution_count": 284,
     "metadata": {},
     "output_type": "execute_result"
    }
   ],
   "source": [
    " view = TOTAL_DATA[(TOTAL_DATA['NAME'] == name) & (TOTAL_DATA['L. NAME'] == Last_name)]   \n",
    " view  # Customer calculations can be filtered by first and last name"
   ]
  },
  {
   "cell_type": "code",
   "execution_count": 288,
   "metadata": {},
   "outputs": [],
   "source": [
    "esco = view.index.values\n"
   ]
  },
  {
   "cell_type": "code",
   "execution_count": 289,
   "metadata": {},
   "outputs": [
    {
     "name": "stdin",
     "output_type": "stream",
     "text": [
      "Choose which want edit [0 1 2 3 4]  3\n"
     ]
    }
   ],
   "source": [
    "choose = int(input(f\"Choose which want edit {esco} \"))"
   ]
  },
  {
   "cell_type": "code",
   "execution_count": 292,
   "metadata": {},
   "outputs": [
    {
     "data": {
      "text/html": [
       "<div>\n",
       "<style scoped>\n",
       "    .dataframe tbody tr th:only-of-type {\n",
       "        vertical-align: middle;\n",
       "    }\n",
       "\n",
       "    .dataframe tbody tr th {\n",
       "        vertical-align: top;\n",
       "    }\n",
       "\n",
       "    .dataframe thead th {\n",
       "        text-align: right;\n",
       "    }\n",
       "</style>\n",
       "<table border=\"1\" class=\"dataframe\">\n",
       "  <thead>\n",
       "    <tr style=\"text-align: right;\">\n",
       "      <th></th>\n",
       "      <th>NAME</th>\n",
       "      <th>L. NAME</th>\n",
       "      <th>MAKE A. T</th>\n",
       "      <th>EXPENSES</th>\n",
       "      <th>EXPEN RETI</th>\n",
       "      <th>FIRE_N</th>\n",
       "      <th>AGE</th>\n",
       "      <th>AGE RETI</th>\n",
       "      <th>INFLATION</th>\n",
       "      <th>INITIAL INVEST.</th>\n",
       "      <th>RETURN F. INVEST.</th>\n",
       "      <th>ESTI. GROW</th>\n",
       "    </tr>\n",
       "  </thead>\n",
       "  <tbody>\n",
       "    <tr>\n",
       "      <th>3</th>\n",
       "      <td>David</td>\n",
       "      <td>Santamaria</td>\n",
       "      <td>65</td>\n",
       "      <td>40</td>\n",
       "      <td>20</td>\n",
       "      <td>400.0</td>\n",
       "      <td>30</td>\n",
       "      <td>42</td>\n",
       "      <td>3</td>\n",
       "      <td>150</td>\n",
       "      <td>2</td>\n",
       "      <td>3</td>\n",
       "    </tr>\n",
       "  </tbody>\n",
       "</table>\n",
       "</div>"
      ],
      "text/plain": [
       "    NAME     L. NAME  MAKE A. T  EXPENSES   EXPEN RETI  FIRE_N  AGE  AGE RETI  \\\n",
       "3  David  Santamaria         65         40          20   400.0   30        42   \n",
       "\n",
       "   INFLATION  INITIAL INVEST.  RETURN F. INVEST.  ESTI. GROW  \n",
       "3          3              150                  2           3  "
      ]
     },
     "execution_count": 292,
     "metadata": {},
     "output_type": "execute_result"
    }
   ],
   "source": [
    "edit = view.iloc[[choose]] # The end user can choose which of his calculations to edit.\n",
    "edit"
   ]
  },
  {
   "cell_type": "code",
   "execution_count": null,
   "metadata": {},
   "outputs": [],
   "source": [
    "# Thank you for your time I appreciate the opportunity"
   ]
  }
 ],
 "metadata": {
  "kernelspec": {
   "display_name": "Python 3",
   "language": "python",
   "name": "python3"
  },
  "language_info": {
   "codemirror_mode": {
    "name": "ipython",
    "version": 3
   },
   "file_extension": ".py",
   "mimetype": "text/x-python",
   "name": "python",
   "nbconvert_exporter": "python",
   "pygments_lexer": "ipython3",
   "version": "3.8.5"
  }
 },
 "nbformat": 4,
 "nbformat_minor": 4
}
